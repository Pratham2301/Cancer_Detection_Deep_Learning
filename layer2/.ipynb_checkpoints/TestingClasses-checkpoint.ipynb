{
 "cells": [
  {
   "cell_type": "markdown",
   "metadata": {
    "id": "2PitKqS1GpdI"
   },
   "source": [
    "# Importing Libraries"
   ]
  },
  {
   "cell_type": "code",
   "execution_count": 1,
   "metadata": {
    "id": "A6U03Fh5PbD-"
   },
   "outputs": [],
   "source": [
    "import numpy as np\n",
    "import cv2\n",
    "\n",
    "import PIL.Image as Image\n",
    "\n",
    "import shutil\n",
    "import os\n",
    "\n",
    "import matplotlib.pylab as plt\n",
    "\n",
    "import tensorflow as tf\n",
    "import tensorflow_hub as hub\n",
    "\n",
    "from tensorflow import keras\n",
    "from tensorflow.keras import layers\n",
    "from tensorflow.keras.models import Sequential\n",
    "\n",
    "import keras.applications\n",
    "from keras.applications import vgg16\n",
    "\n",
    "# from vgg16 import decode_prediction\n",
    "\n",
    "import time"
   ]
  },
  {
   "cell_type": "markdown",
   "metadata": {
    "id": "bWYAlNxVGfa5"
   },
   "source": [
    "# Downloading Dataset From Kaggle\n",
    "\n",
    "#### Dataset Link : https://www.kaggle.com/datasets/fanconic/skin-cancer-malignant-vs-benign"
   ]
  },
  {
   "cell_type": "code",
   "execution_count": 2,
   "metadata": {
    "id": "yRjwN_TcFul4"
   },
   "outputs": [
    {
     "name": "stderr",
     "output_type": "stream",
     "text": [
      "The syntax of the command is incorrect.\n",
      "'cp' is not recognized as an internal or external command,\n",
      "operable program or batch file.\n"
     ]
    }
   ],
   "source": [
    "!mkdir -p ~/.kaggle\n",
    "!cp kaggle.json ~/.kaggle/"
   ]
  },
  {
   "cell_type": "code",
   "execution_count": 3,
   "metadata": {
    "colab": {
     "base_uri": "https://localhost:8080/"
    },
    "id": "Z76IRUtEE7ur",
    "outputId": "86a1735e-8ea2-4af4-b41c-3eade05e1e84"
   },
   "outputs": [
    {
     "name": "stderr",
     "output_type": "stream",
     "text": [
      "'kaggle' is not recognized as an internal or external command,\n",
      "operable program or batch file.\n"
     ]
    }
   ],
   "source": [
    "!kaggle datasets download -d fanconic/skin-cancer-malignant-vs-benign"
   ]
  },
  {
   "cell_type": "markdown",
   "metadata": {
    "id": "x_wQnFkQGzMg"
   },
   "source": [
    "# Unzip Dataset"
   ]
  },
  {
   "cell_type": "code",
   "execution_count": 5,
   "metadata": {
    "id": "sVuxY0POGMjh"
   },
   "outputs": [],
   "source": [
    "import zipfile\n",
    "zip_ref = zipfile.ZipFile('/content/skin-cancer-malignant-vs-benign.zip', 'r')\n",
    "zip_ref.extractall('/content')\n",
    "zip_ref.close()"
   ]
  },
  {
   "cell_type": "markdown",
   "metadata": {
    "id": "ngMOiHUwG6cg"
   },
   "source": [
    "# Setting Folder Structure"
   ]
  },
  {
   "cell_type": "code",
   "execution_count": 13,
   "metadata": {
    "colab": {
     "base_uri": "https://localhost:8080/",
     "height": 36
    },
    "id": "Y-cJzr39SAlW",
    "outputId": "b1491e10-1933-4703-fbf2-4f2b1c7ee0a9"
   },
   "outputs": [
    {
     "data": {
      "application/vnd.google.colaboratory.intrinsic+json": {
       "type": "string"
      },
      "text/plain": [
       "'/content'"
      ]
     },
     "execution_count": 13,
     "metadata": {},
     "output_type": "execute_result"
    }
   ],
   "source": [
    "curr_dir = os.getcwd()\n",
    "curr_dir"
   ]
  },
  {
   "cell_type": "code",
   "execution_count": 14,
   "metadata": {
    "colab": {
     "base_uri": "https://localhost:8080/",
     "height": 356
    },
    "id": "prFKpvRwSDJu",
    "outputId": "f82eecc7-33b7-439c-db03-4f1d8e16e363"
   },
   "outputs": [
    {
     "ename": "FileExistsError",
     "evalue": "ignored",
     "output_type": "error",
     "traceback": [
      "\u001b[0;31m---------------------------------------------------------------------------\u001b[0m",
      "\u001b[0;31mFileExistsError\u001b[0m                           Traceback (most recent call last)",
      "\u001b[0;32m<ipython-input-14-86fb4e47a623>\u001b[0m in \u001b[0;36m<cell line: 4>\u001b[0;34m()\u001b[0m\n\u001b[1;32m      2\u001b[0m \u001b[0;34m\u001b[0m\u001b[0m\n\u001b[1;32m      3\u001b[0m \u001b[0mdatasetFolder\u001b[0m \u001b[0;34m=\u001b[0m \u001b[0mcurr_dir\u001b[0m \u001b[0;34m+\u001b[0m \u001b[0;34m\"/DATASET\"\u001b[0m\u001b[0;34m\u001b[0m\u001b[0;34m\u001b[0m\u001b[0m\n\u001b[0;32m----> 4\u001b[0;31m \u001b[0mos\u001b[0m\u001b[0;34m.\u001b[0m\u001b[0mmakedirs\u001b[0m\u001b[0;34m(\u001b[0m\u001b[0mdatasetFolder\u001b[0m\u001b[0;34m)\u001b[0m\u001b[0;34m\u001b[0m\u001b[0;34m\u001b[0m\u001b[0m\n\u001b[0m\u001b[1;32m      5\u001b[0m \u001b[0mos\u001b[0m\u001b[0;34m.\u001b[0m\u001b[0mmakedirs\u001b[0m\u001b[0;34m(\u001b[0m\u001b[0mdatasetFolder\u001b[0m \u001b[0;34m+\u001b[0m \u001b[0;34m\"/benign\"\u001b[0m\u001b[0;34m)\u001b[0m\u001b[0;34m\u001b[0m\u001b[0;34m\u001b[0m\u001b[0m\n\u001b[1;32m      6\u001b[0m \u001b[0mos\u001b[0m\u001b[0;34m.\u001b[0m\u001b[0mmakedirs\u001b[0m\u001b[0;34m(\u001b[0m\u001b[0mdatasetFolder\u001b[0m \u001b[0;34m+\u001b[0m \u001b[0;34m\"/malignant\"\u001b[0m\u001b[0;34m)\u001b[0m\u001b[0;34m\u001b[0m\u001b[0;34m\u001b[0m\u001b[0m\n",
      "\u001b[0;32m/usr/lib/python3.10/os.py\u001b[0m in \u001b[0;36mmakedirs\u001b[0;34m(name, mode, exist_ok)\u001b[0m\n\u001b[1;32m    223\u001b[0m             \u001b[0;32mreturn\u001b[0m\u001b[0;34m\u001b[0m\u001b[0;34m\u001b[0m\u001b[0m\n\u001b[1;32m    224\u001b[0m     \u001b[0;32mtry\u001b[0m\u001b[0;34m:\u001b[0m\u001b[0;34m\u001b[0m\u001b[0;34m\u001b[0m\u001b[0m\n\u001b[0;32m--> 225\u001b[0;31m         \u001b[0mmkdir\u001b[0m\u001b[0;34m(\u001b[0m\u001b[0mname\u001b[0m\u001b[0;34m,\u001b[0m \u001b[0mmode\u001b[0m\u001b[0;34m)\u001b[0m\u001b[0;34m\u001b[0m\u001b[0;34m\u001b[0m\u001b[0m\n\u001b[0m\u001b[1;32m    226\u001b[0m     \u001b[0;32mexcept\u001b[0m \u001b[0mOSError\u001b[0m\u001b[0;34m:\u001b[0m\u001b[0;34m\u001b[0m\u001b[0;34m\u001b[0m\u001b[0m\n\u001b[1;32m    227\u001b[0m         \u001b[0;31m# Cannot rely on checking for EEXIST, since the operating system\u001b[0m\u001b[0;34m\u001b[0m\u001b[0;34m\u001b[0m\u001b[0m\n",
      "\u001b[0;31mFileExistsError\u001b[0m: [Errno 17] File exists: '/content/DATASET'"
     ]
    }
   ],
   "source": [
    "# creating folders\n",
    "\n",
    "datasetFolder = curr_dir + \"/DATASET\"\n",
    "os.makedirs(datasetFolder)\n",
    "os.makedirs(datasetFolder + \"/benign\")\n",
    "os.makedirs(datasetFolder + \"/malignant\")"
   ]
  },
  {
   "cell_type": "code",
   "execution_count": 15,
   "metadata": {
    "id": "FaCFdSPiIB9f"
   },
   "outputs": [],
   "source": [
    "# defining source and destination folders paths\n",
    "\n",
    "src1 = curr_dir + \"/test/benign\"\n",
    "src2 = curr_dir + \"/train/benign\"\n",
    "\n",
    "src3 = curr_dir + \"/test/malignant\"\n",
    "src4 = curr_dir + \"/train/malignant\"\n",
    "\n",
    "\n",
    "\n",
    "\n",
    "benign_src = [src1, src2]\n",
    "malignant_src = [src3, src4]\n",
    "\n",
    "benign_dest = curr_dir + \"/DATASET/benign\"\n",
    "malignant_dest = curr_dir + \"/DATASET/malignant\""
   ]
  },
  {
   "cell_type": "code",
   "execution_count": 16,
   "metadata": {
    "id": "kH70RtkJOaA2"
   },
   "outputs": [],
   "source": [
    "## copying files\n",
    "\n",
    "for src in benign_src:\n",
    "  for dirs, subdirs, files in os.walk(src):\n",
    "    print(\" Total benign files : \", len(files))\n",
    "    for file in files:\n",
    "      if file.endswith('.jpg'):\n",
    "        filename = os.path.join(src, dirs, file)\n",
    "        if os.path.exists(filename):\n",
    "          print(filename)\n",
    "          shutil.copy(filename, benign_dest)\n",
    "\n",
    "for src in malignant_src:\n",
    "  for dirs, subdirs, files in os.walk(src):\n",
    "    print(\" Total malignant files : \", len(files))\n",
    "    for file in files:\n",
    "      if file.endswith('.jpg'):\n",
    "        filename = os.path.join(src, dirs, file)\n",
    "        if os.path.exists(filename):\n",
    "          print(filename)\n",
    "          shutil.copy(filename, malignant_dest)"
   ]
  },
  {
   "cell_type": "code",
   "execution_count": 10,
   "metadata": {
    "id": "foT7Z1ITQjwt"
   },
   "outputs": [],
   "source": [
    "## deleting old folders\n",
    "\n",
    "shutil.rmtree(curr_dir + \"/data\")\n",
    "shutil.rmtree(curr_dir + \"/test\")\n",
    "shutil.rmtree(curr_dir + \"/train\")"
   ]
  },
  {
   "cell_type": "code",
   "execution_count": 17,
   "metadata": {
    "colab": {
     "base_uri": "https://localhost:8080/"
    },
    "id": "nabJezTDMrR-",
    "outputId": "0fbc7354-045a-4a02-de49-c4656c89374c"
   },
   "outputs": [
    {
     "name": "stdout",
     "output_type": "stream",
     "text": [
      "Benign : 1800\n",
      "Malignant : 1497\n",
      "\n",
      "Total images : 3297\n"
     ]
    }
   ],
   "source": [
    "Total_images = 0\n",
    "\n",
    "for dirs, subdirs, files in (os.walk(benign_dest)):\n",
    "  print(f'Benign : {len(files)}')\n",
    "  Total_images = Total_images + len(files)\n",
    "\n",
    "for dirs, subdirs, files in (os.walk(malignant_dest)):\n",
    "  print(f'Malignant : {len(files)}')\n",
    "  Total_images = Total_images + len(files)\n",
    "\n",
    "print(f'\\nTotal images : {Total_images}')"
   ]
  },
  {
   "cell_type": "code",
   "execution_count": 18,
   "metadata": {
    "id": "SydWqjJIZ1m9"
   },
   "outputs": [],
   "source": [
    "IMAGE_SHAPE = (224, 224)\n",
    "EPOCHS = 50"
   ]
  },
  {
   "cell_type": "code",
   "execution_count": 87,
   "metadata": {
    "colab": {
     "base_uri": "https://localhost:8080/",
     "height": 241
    },
    "id": "mtcGtbfhZ6bU",
    "outputId": "3b53f1ab-cfe2-4729-a689-261f014ad4bf"
   },
   "outputs": [
    {
     "data": {
      "image/png": "[encoded data removed]",
      "text/plain": [
       "<PIL.Image.Image image mode=RGB size=224x224 at 0x7FE26024E2F0>"
      ]
     },
     "execution_count": 87,
     "metadata": {},
     "output_type": "execute_result"
    }
   ],
   "source": [
    "random_image = Image.open(\"./download.jpeg\").resize(IMAGE_SHAPE)\n",
    "random_image"
   ]
  },
  {
   "cell_type": "code",
   "execution_count": 20,
   "metadata": {
    "id": "M3f77Oumd_G6"
   },
   "outputs": [],
   "source": [
    "data_dir = './DATASET'"
   ]
  },
  {
   "cell_type": "code",
   "execution_count": 21,
   "metadata": {
    "colab": {
     "base_uri": "https://localhost:8080/"
    },
    "id": "5KeVMEFHeIqK",
    "outputId": "06c49975-fe92-442a-bd69-2aaed1fbb07a"
   },
   "outputs": [
    {
     "data": {
      "text/plain": [
       "PosixPath('DATASET')"
      ]
     },
     "execution_count": 21,
     "metadata": {},
     "output_type": "execute_result"
    }
   ],
   "source": [
    "import pathlib\n",
    "data_dir = pathlib.Path(data_dir)\n",
    "data_dir"
   ]
  },
  {
   "cell_type": "code",
   "execution_count": 92,
   "metadata": {
    "colab": {
     "base_uri": "https://localhost:8080/"
    },
    "id": "133hDamdeNGq",
    "outputId": "abcfd53e-21fb-4a81-b78d-814ed98af986"
   },
   "outputs": [
    {
     "data": {
      "text/plain": [
       "[PosixPath('DATASET/benign/1694.jpg'),\n",
       " PosixPath('DATASET/benign/145.jpg'),\n",
       " PosixPath('DATASET/benign/103.jpg'),\n",
       " PosixPath('DATASET/benign/439.jpg'),\n",
       " PosixPath('DATASET/benign/578.jpg')]"
      ]
     },
     "execution_count": 92,
     "metadata": {},
     "output_type": "execute_result"
    }
   ],
   "source": [
    "list(data_dir.glob('*/*.jpg'))[:5]"
   ]
  },
  {
   "cell_type": "code",
   "execution_count": 93,
   "metadata": {
    "colab": {
     "base_uri": "https://localhost:8080/"
    },
    "id": "7IC1QtheeQkx",
    "outputId": "39410db8-3ef6-4864-980f-56a4c711c599"
   },
   "outputs": [
    {
     "name": "stdout",
     "output_type": "stream",
     "text": [
      "3297\n"
     ]
    }
   ],
   "source": [
    "image_count = len(list(data_dir.glob('*/*.jpg')))\n",
    "print(image_count)"
   ]
  },
  {
   "cell_type": "code",
   "execution_count": 22,
   "metadata": {
    "id": "_82VSReressM"
   },
   "outputs": [],
   "source": [
    "skin_images_dict = {\n",
    "    'benign': list(data_dir.glob('benign/*')),\n",
    "    'malignant': list(data_dir.glob('malignant/*')),\n",
    "}"
   ]
  },
  {
   "cell_type": "code",
   "execution_count": 23,
   "metadata": {
    "id": "HiLbRTcyevsF"
   },
   "outputs": [],
   "source": [
    "skin_labels_dict = {\n",
    "    'benign': 0,\n",
    "    'malignant': 1,\n",
    "}"
   ]
  },
  {
   "cell_type": "code",
   "execution_count": 33,
   "metadata": {
    "id": "ZUW5K9lae7Pn"
   },
   "outputs": [],
   "source": [
    "img = cv2.imread(str(skin_images_dict['benign'][1]))"
   ]
  },
  {
   "cell_type": "code",
   "execution_count": 34,
   "metadata": {
    "colab": {
     "base_uri": "https://localhost:8080/"
    },
    "id": "Y6O_4pUCe9sn",
    "outputId": "e96f771f-0c68-41c8-e530-665d3a76872f"
   },
   "outputs": [
    {
     "data": {
      "text/plain": [
       "(224, 224, 3)"
      ]
     },
     "execution_count": 34,
     "metadata": {},
     "output_type": "execute_result"
    }
   ],
   "source": [
    "img.shape"
   ]
  },
  {
   "cell_type": "code",
   "execution_count": 35,
   "metadata": {
    "id": "6pEjp5mZfBKI"
   },
   "outputs": [],
   "source": [
    "X, y = [], []\n",
    "\n",
    "for cancer_name, images in skin_images_dict.items():\n",
    "    \n",
    "    for image in images:\n",
    "        \n",
    "        img = cv2.imread(str(image))\n",
    "        resized_img = cv2.resize(img,(224,224))\n",
    "        X.append(resized_img)\n",
    "        y.append(skin_labels_dict[cancer_name])"
   ]
  },
  {
   "cell_type": "code",
   "execution_count": 42,
   "metadata": {
    "id": "nz5AW0RkfIxy"
   },
   "outputs": [],
   "source": [
    "X = np.array(X)\n",
    "y = np.array(y)"
   ]
  },
  {
   "cell_type": "code",
   "execution_count": 46,
   "metadata": {
    "colab": {
     "base_uri": "https://localhost:8080/"
    },
    "id": "wP4kROSf1GQr",
    "outputId": "50086bed-2c83-4fbb-bfd2-693c25c2c73e"
   },
   "outputs": [
    {
     "data": {
      "text/plain": [
       "(224, 224, 3)"
      ]
     },
     "execution_count": 46,
     "metadata": {},
     "output_type": "execute_result"
    }
   ],
   "source": [
    "X[0].shape"
   ]
  },
  {
   "cell_type": "code",
   "execution_count": 47,
   "metadata": {
    "colab": {
     "base_uri": "https://localhost:8080/"
    },
    "id": "AgOHuFhC1Ifv",
    "outputId": "c715e343-089c-4541-e955-fb1d57f951a2"
   },
   "outputs": [
    {
     "data": {
      "text/plain": [
       "(224, 224, 3)"
      ]
     },
     "execution_count": 47,
     "metadata": {},
     "output_type": "execute_result"
    }
   ],
   "source": [
    "IMAGE_SHAPE+(3,)"
   ]
  },
  {
   "cell_type": "code",
   "execution_count": 92,
   "metadata": {
    "id": "h8bpZMUZ1Kha"
   },
   "outputs": [],
   "source": [
    "# x0_resized = cv2.resize(X[0], IMAGE_SHAPE)\n",
    "# x1_resized = cv2.resize(X[1], IMAGE_SHAPE)\n",
    "# x2_resized = cv2.resize(X[2], IMAGE_SHAPE)\n",
    "\n",
    "# xr_resized = cv2.resize(X[3000], IMAGE_SHAPE)"
   ]
  },
  {
   "cell_type": "code",
   "execution_count": 49,
   "metadata": {
    "id": "CQ_E5VO71VIu"
   },
   "outputs": [],
   "source": [
    "classifier = tf.keras.Sequential([\n",
    "    hub.KerasLayer(\"https://tfhub.dev/google/tf2-preview/mobilenet_v2/classification/4\", input_shape=IMAGE_SHAPE+(3,))\n",
    "])"
   ]
  },
  {
   "cell_type": "code",
   "execution_count": 101,
   "metadata": {
    "colab": {
     "base_uri": "https://localhost:8080/"
    },
    "id": "qt5YEOglAMDg",
    "outputId": "cebcbf13-1062-47ee-97ed-54126026c34a"
   },
   "outputs": [
    {
     "name": "stdout",
     "output_type": "stream",
     "text": [
      "104/104 [==============================] - 3s 29ms/step\n",
      "[[ 0.02961609  0.5383      0.69040066 ... -1.898771    1.8502247\n",
      "   1.0428843 ]\n",
      " [ 0.08065203  0.09971891  1.1766218  ... -0.79883283 -0.5141011\n",
      "   1.2771027 ]\n",
      " [ 0.22300306  0.36440676  1.4449722  ... -0.5059876   0.64163244\n",
      "   0.78665674]\n",
      " ...\n",
      " [ 0.02408075  1.0295339   1.1857489  ... -1.2361871   1.8834722\n",
      "   1.1859626 ]\n",
      " [ 0.24252662 -0.04057787  2.0345914  ... -1.3559467  -1.586396\n",
      "   1.7357347 ]\n",
      " [ 0.29038945 -0.21660243  1.4949697  ... -1.1598403  -1.3533633\n",
      "   3.4883034 ]]\n"
     ]
    },
    {
     "data": {
      "text/plain": [
       "array([795, 795, 795, ..., 795, 795, 795])"
      ]
     },
     "execution_count": 101,
     "metadata": {},
     "output_type": "execute_result"
    }
   ],
   "source": [
    "x_resized = []\n",
    "for i in X:\n",
    "  img_resized = cv2.resize(i, IMAGE_SHAPE)\n",
    "  x_resized.append(img_resized)\n",
    "  \n",
    "predicted = classifier.predict(np.array(x_resized))\n",
    "print(predicted)\n",
    "y_classes = predicted.argmax(axis=-1)\n",
    "y_classes"
   ]
  },
  {
   "cell_type": "code",
   "execution_count": 102,
   "metadata": {
    "colab": {
     "base_uri": "https://localhost:8080/"
    },
    "id": "KUpRM5FjBY25",
    "outputId": "1a694a77-67e1-404f-9301-dc911222a183"
   },
   "outputs": [
    {
     "name": "stdout",
     "output_type": "stream",
     "text": [
      "2806\n"
     ]
    }
   ],
   "source": [
    "cnt = 0\n",
    "for i in y_classes:\n",
    "  if i == 795:\n",
    "    cnt = cnt + 1\n",
    "print(cnt)"
   ]
  },
  {
   "cell_type": "code",
   "execution_count": 103,
   "metadata": {
    "colab": {
     "base_uri": "https://localhost:8080/"
    },
    "id": "GVCeu40RCerr",
    "outputId": "06fa8fd3-6bcd-44bd-e2f0-00bcc1ecaa60"
   },
   "outputs": [
    {
     "name": "stdout",
     "output_type": "stream",
     "text": [
      "795: 2806\n",
      "905: 309\n",
      "722: 127\n",
      "550: 5\n",
      "620: 10\n",
      "531: 1\n",
      "819: 7\n",
      "418: 2\n",
      "816: 17\n",
      "702: 2\n",
      "444: 9\n",
      "637: 1\n",
      "948: 1\n"
     ]
    }
   ],
   "source": [
    "import collections\n",
    "\n",
    "elements_count = collections.Counter(y_classes)\n",
    "\n",
    "for key, value in elements_count.items():\n",
    "   print(f\"{key}: {value}\")"
   ]
  }
 ],
 "metadata": {
  "accelerator": "GPU",
  "colab": {
   "gpuType": "T4",
   "provenance": []
  },
  "gpuClass": "standard",
  "kernelspec": {
   "display_name": "Python 3 (ipykernel)",
   "language": "python",
   "name": "python3"
  },
  "language_info": {
   "codemirror_mode": {
    "name": "ipython",
    "version": 3
   },
   "file_extension": ".py",
   "mimetype": "text/x-python",
   "name": "python",
   "nbconvert_exporter": "python",
   "pygments_lexer": "ipython3",
   "version": "3.10.1"
  }
 },
 "nbformat": 4,
 "nbformat_minor": 1
}
